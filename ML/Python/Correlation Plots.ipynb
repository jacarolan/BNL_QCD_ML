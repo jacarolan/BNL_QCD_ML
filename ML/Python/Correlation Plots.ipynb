{
 "cells": [
  {
   "cell_type": "code",
   "execution_count": 1,
   "metadata": {},
   "outputs": [],
   "source": [
    "import numpy as np\n",
    "from sklearn.ensemble import GradientBoostingRegressor \n",
    "import matplotlib.pyplot as plt\n",
    "import os.path\n",
    "from os import path\n",
    "from sklearn.neural_network import MLPRegressor\n",
    "import seaborn as sns\n",
    "from scipy.stats import pearsonr"
   ]
  },
  {
   "cell_type": "code",
   "execution_count": 8,
   "metadata": {},
   "outputs": [
    {
     "name": "stdout",
     "output_type": "stream",
     "text": [
      "28672\n"
     ]
    }
   ],
   "source": [
    "def LoadRawVariables():\n",
    "    c2pt = []\n",
    "    ts   = []\n",
    "    taus = []\n",
    "    xs   = []\n",
    "    ys   = []\n",
    "    zs   = []\n",
    "    c3pt_S = []\n",
    "    c3pt_V = []\n",
    "    c3pt_A = []\n",
    "    c2pt_OTHER = []\n",
    "    \n",
    "    \n",
    "    for tau in range(0, 49, 8):\n",
    "        for x in range(0, 25, 8):\n",
    "            for y in range(0, 25, 8):\n",
    "                for z in range(0, 25, 8):\n",
    "                    for sample in range(748, 800, 16): #1421, 16):\n",
    "                        fname = \"../Data/T\" + str(tau) + \"/x\" + str(x) + \"y\" + str(y) + \"z\" + str(z) + \"/nuc3pt.dat.\" + str(sample)\n",
    "                        if path.exists(fname):\n",
    "                            with open(fname) as fp:\n",
    "                                for i, line in enumerate(fp):\n",
    "                                    if i >= 7 and i <= 70:           # The start of Gauss -> Point 2pt correlation functions\n",
    "                                        c2pt_OTHER.append([float(x) for x in line.rstrip().split()[1:3]])\n",
    "                                    if i >= 5182 and i <= 5245:      # The start of Gauss -> Gauss 2pt correlation functions\n",
    "                                        c2pt.append([float(x) for x in line.rstrip().split()[1:3]])\n",
    "                                        ts.append(i - 5182)\n",
    "                                        taus.append(tau)\n",
    "                                        xs.append(x)\n",
    "                                        ys.append(y)\n",
    "                                        zs.append(z)\n",
    "                                    elif i >= 10154 and i <= 10217:\n",
    "                                        c3pt_S.append([float(x) for x in line.rstrip().split()[1:3]])\n",
    "                                    elif i >= 10229 and i <= 10292:\n",
    "                                        c3pt_V.append([float(x) for x in line.rstrip().split()[1:3]])\n",
    "                                    elif i >= 19979 and i <= 20042:\n",
    "                                        c3pt_A.append([float(x) for x in line.rstrip().split()[1:3]])\n",
    "                                    elif i > 20042:\n",
    "                                        break\n",
    "    \n",
    "    return ts, taus, xs, ys, zs, c2pt, c3pt_S, c3pt_V, c3pt_A, c2pt_OTHER\n",
    "\n",
    "ts, taus, xs, ys, zs, c2pt, c3pt_S, c3pt_V, c3pt_A, c2pt_OTHER = LoadRawVariables()\n",
    "\n",
    "c2pt_factor_raw = sum(np.array(c2pt)) / len(c2pt)\n",
    "N_factor = np.sqrt(c2pt_factor_raw[0] ** 2 + c2pt_factor_raw[1] ** 2)\n",
    "\n",
    "for i in range(len(c2pt)):\n",
    "    for j in range(2):\n",
    "        c2pt[i][j] /= N_factor\n",
    "        c3pt_S[i][j] /= N_factor\n",
    "        c3pt_V[i][j] /= N_factor\n",
    "        c3pt_A[i][j] /= N_factor\n",
    "        c2pt_OTHER[i][j] /= N_factor\n",
    "    \n",
    "print(len(c2pt))"
   ]
  },
  {
   "cell_type": "code",
   "execution_count": 9,
   "metadata": {},
   "outputs": [
    {
     "name": "stdout",
     "output_type": "stream",
     "text": [
      "28672\n",
      "7\n",
      "28672\n",
      "28672\n",
      "28672\n"
     ]
    }
   ],
   "source": [
    "features = np.array([np.array([ts[i], taus[i], xs[i], ys[i], zs[i], c2pt[i][0], c2pt[i][1]]) for i in range(len(ts))])\n",
    "\n",
    "labels_S = np.array([np.array([c3pt_S[i][0], c3pt_S[i][1]]) for i in range(len(c3pt_S))])\n",
    "labels_A = np.array([np.array([c3pt_A[i][0], c3pt_A[i][1]]) for i in range(len(c3pt_A))])\n",
    "labels_V = np.array([np.array([c3pt_V[i][0], c3pt_V[i][1]]) for i in range(len(c3pt_V))])\n",
    "\n",
    "print(len(features))\n",
    "print(len(features[0]))\n",
    "print(len(labels_S))\n",
    "print(len(labels_A))\n",
    "print(len(labels_V))"
   ]
  },
  {
   "cell_type": "code",
   "execution_count": 15,
   "metadata": {},
   "outputs": [],
   "source": [
    "corrs_S = []\n",
    "corrs_A = []\n",
    "corrs_V = []\n",
    "\n",
    "c2pt_chunk = []\n",
    "c3pt_S_chunk = []\n",
    "c3pt_A_chunk = []\n",
    "c3pt_V_chunk = []\n",
    "c2pt_OTHER_chunk = []\n",
    "for i in range(len(features)):\n",
    "    t = int(features[i, 0])\n",
    "    tau = int(features[i, 1])\n",
    "    if (t - tau + 64) % 64 > 8:\n",
    "        continue\n",
    "    else:\n",
    "        c2pt_chunk.append(features[i, 5] + 1j * features[i, 6])\n",
    "        c3pt_S_chunk.append(labels_S[i, 0] + 1j * labels_S[i, 1])\n",
    "        c3pt_A_chunk.append(labels_A[i, 0] + 1j * labels_A[i, 1])\n",
    "        c3pt_V_chunk.append(labels_V[i, 0] + 1j * labels_V[i, 1])\n",
    "        c2pt_OTHER_chunk.append(c2pt_OTHER[i][0] + 1j * c2pt_OTHER[i][0])\n"
   ]
  },
  {
   "cell_type": "code",
   "execution_count": 16,
   "metadata": {},
   "outputs": [
    {
     "name": "stdout",
     "output_type": "stream",
     "text": [
      "0.9668517412070854\n"
     ]
    }
   ],
   "source": [
    "corr_S, _ = pearsonr(c2pt_chunk, c3pt_S_chunk)\n",
    "corr_A, _ = pearsonr(c2pt_chunk, c3pt_A_chunk)\n",
    "corr_V, _ = pearsonr(c2pt_chunk, c3pt_V_chunk)\n",
    "corr_2, _ = pearsonr(c2pt_chunk, c2pt_OTHER_chunk)\n",
    "\n",
    "print(np.sqrt(np.abs(corr_2)))\n",
    "\n",
    "\n",
    "corrs_S.append(np.sqrt(np.abs(corr_S)))\n",
    "corrs_A.append(np.sqrt(np.abs(corr_A)))\n",
    "corrs_V.append(np.sqrt(np.abs(corr_V)))"
   ]
  },
  {
   "cell_type": "code",
   "execution_count": 17,
   "metadata": {},
   "outputs": [
    {
     "data": {
      "image/png": "[encoded data removed]",
      "text/plain": [
       "<Figure size 432x288 with 2 Axes>"
      ]
     },
     "metadata": {
      "needs_background": "light"
     },
     "output_type": "display_data"
    }
   ],
   "source": [
    "data = np.array([corrs_S, corrs_A, corrs_V])\n",
    "ax = sns.heatmap(data, linewidth=0.5, yticklabels=False, xticklabels=False)\n",
    "plt.ylabel(\"Vector               Axial             Scalar\")\n",
    "plt.title(\"Correlation between c3pt and c2pt\")\n",
    "plt.xlabel(\"Time step\")\n",
    "plt.show()"
   ]
  },
  {
   "cell_type": "code",
   "execution_count": null,
   "metadata": {},
   "outputs": [],
   "source": []
  }
 ],
 "metadata": {
  "kernelspec": {
   "display_name": "Python 3",
   "language": "python",
   "name": "python3"
  },
  "language_info": {
   "codemirror_mode": {
    "name": "ipython",
    "version": 3
   },
   "file_extension": ".py",
   "mimetype": "text/x-python",
   "name": "python",
   "nbconvert_exporter": "python",
   "pygments_lexer": "ipython3",
   "version": "3.7.4"
  }
 },
 "nbformat": 4,
 "nbformat_minor": 4
}
