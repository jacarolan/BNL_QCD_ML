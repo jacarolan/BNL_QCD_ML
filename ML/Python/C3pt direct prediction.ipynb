{
 "cells": [
  {
   "cell_type": "code",
   "execution_count": 1,
   "metadata": {},
   "outputs": [],
   "source": [
    "import numpy as np\n",
    "from sklearn.ensemble import GradientBoostingRegressor \n",
    "import matplotlib.pyplot as plt\n",
    "import os.path\n",
    "from os import path"
   ]
  },
  {
   "cell_type": "code",
   "execution_count": 2,
   "metadata": {},
   "outputs": [],
   "source": [
    "def LoadRawVariables():\n",
    "    c2pt = []\n",
    "    ts   = []\n",
    "    taus = []\n",
    "    xs   = []\n",
    "    ys   = []\n",
    "    zs   = []\n",
    "    c3pt = []\n",
    "    \n",
    "    c2pt_start = 9\n",
    "    c3pt_start = 10155\n",
    "    \n",
    "    for tau in range(0, 49, 8):\n",
    "        for x in range(0, 25, 8):\n",
    "            for y in range(0, 25, 8):\n",
    "                for z in range(0, 25, 8):\n",
    "                    for sample in range(748, 1421, 16):\n",
    "                        fname = \"../Data/T\" + str(tau) + \"/x\" + str(x) + \"y\" + str(y) + \"z\" + str(z) + \"/nuc3pt.dat.\" + str(sample)\n",
    "                        if path.exists(fname):\n",
    "                            with open(fname) as fp:\n",
    "                                for i, line in enumerate(fp):\n",
    "                                    if i >= 7 and i <= 70:\n",
    "                                        c2pt.append([float(x) for x in line.rstrip().split()[1:3]])\n",
    "                                        ts.append(i - 7)\n",
    "                                        taus.append(tau)\n",
    "                                        xs.append(x)\n",
    "                                        ys.append(y)\n",
    "                                        zs.append(z)\n",
    "                                    elif i >= 10154 and i <= 10217:\n",
    "                                        c3pt.append([float(x) for x in line.rstrip().split()[1:3]])\n",
    "                                    elif i > 10217:\n",
    "                                        break\n",
    "    \n",
    "    return ts, taus, xs, ys, zs, c2pt, c3pt\n",
    "\n",
    "ts, taus, xs, ys, zs, c2pt, c3pt = LoadRawVariables()"
   ]
  },
  {
   "cell_type": "code",
   "execution_count": 38,
   "metadata": {},
   "outputs": [],
   "source": [
    "features = np.array([np.array([ts[i], taus[i], xs[i], ys[i], zs[i], c2pt[i][0], c2pt[i][1]]) for i in range(len(ts))])\n",
    "labels = np.array([np.array([c3pt[i][0], c3pt[i][1]]) for i in range(len(c3pt))])"
   ]
  },
  {
   "cell_type": "code",
   "execution_count": 39,
   "metadata": {},
   "outputs": [],
   "source": [
    "labelFrac = 0.9\n",
    "BCFrac = 0.05\n",
    "\n",
    "labelEnd = int(len(labels) * labelFrac)\n",
    "BCEnd    = int(len(labels) * (BCFrac + labelFrac))\n",
    "\n",
    "X_train, Y_train, X_bc, Y_bc, X_test, Y_test = features[:labelEnd], labels[:labelEnd], features[labelEnd:BCEnd], labels[labelEnd:BCEnd], features[BCEnd:], labels[BCEnd:]\n",
    "\n",
    "gbr_real = GradientBoostingRegressor(learning_rate=0.1, n_estimators=100, max_depth=3)\n",
    "gbr_real.fit(X_train, Y_train[:, 0])\n",
    "\n",
    "y_bc_pred_real = gbr_real.predict(X_bc)\n",
    "\n",
    "biasCrxn_real = np.average(Y_bc[:, 0] - y_bc_pred_real)\n",
    "\n",
    "gbr_imaginary = GradientBoostingRegressor(learning_rate=0.1, n_estimators=100, max_depth=3)\n",
    "gbr_imaginary.fit(X_train, Y_train[:, 1])\n",
    "\n",
    "y_bc_pred_imaginary = gbr_imaginary.predict(X_bc)\n",
    "\n",
    "biasCrxn_imaginary = np.average(Y_bc[:, 1] - y_bc_pred_imaginary)"
   ]
  },
  {
   "cell_type": "code",
   "execution_count": 41,
   "metadata": {},
   "outputs": [
    {
     "name": "stdout",
     "output_type": "stream",
     "text": [
      "-49647498599.08556\n",
      "-69320103552.21843\n"
     ]
    }
   ],
   "source": [
    "print(biasCrxn_real)\n",
    "print(biasCrxn_imaginary)"
   ]
  },
  {
   "cell_type": "code",
   "execution_count": 44,
   "metadata": {},
   "outputs": [
    {
     "name": "stdout",
     "output_type": "stream",
     "text": [
      "[9.38057294e+11]\n"
     ]
    }
   ],
   "source": [
    "trials = 0\n",
    "error = 0\n",
    "for i in range(len(X_test)):\n",
    "    testImg = X_test[i]\n",
    "    testLabel = Y_test[i]\n",
    "    pred_real = gbr_real.predict([testImg]) + biasCrxn_real\n",
    "    pred_imaginary = gbr_imaginary.predict([testImg]) + biasCrxn_imaginary\n",
    "    error += np.sqrt((pred_real - testLabel[0]) ** 2 + (pred_imaginary - testLabel[1]) ** 2)\n",
    "    trials += 1\n",
    "error /= trials\n",
    "print(error)"
   ]
  }
 ],
 "metadata": {
  "kernelspec": {
   "display_name": "Python 3",
   "language": "python",
   "name": "python3"
  },
  "language_info": {
   "codemirror_mode": {
    "name": "ipython",
    "version": 3
   },
   "file_extension": ".py",
   "mimetype": "text/x-python",
   "name": "python",
   "nbconvert_exporter": "python",
   "pygments_lexer": "ipython3",
   "version": "3.7.4"
  }
 },
 "nbformat": 4,
 "nbformat_minor": 2
}
