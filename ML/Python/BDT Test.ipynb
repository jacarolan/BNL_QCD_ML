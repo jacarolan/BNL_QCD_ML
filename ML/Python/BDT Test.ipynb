{
 "cells": [
  {
   "cell_type": "code",
   "execution_count": 1,
   "metadata": {},
   "outputs": [],
   "source": [
    "import numpy as np\n",
    "from sklearn.ensemble import GradientBoostingRegressor \n",
    "import matplotlib.pyplot as plt"
   ]
  },
  {
   "cell_type": "code",
   "execution_count": 2,
   "metadata": {},
   "outputs": [],
   "source": [
    "labelFrac = 0.8\n",
    "BCFrac = 0.2\n",
    "\n",
    "def LoadData():\n",
    "    f = open(\"../data/mnist_train.csv\")\n",
    "    labels, imgs = [], []\n",
    "    for line in f:\n",
    "        flat = [int(x) for x in line.split(',')]\n",
    "        labels.append(flat[0])\n",
    "        imgs.append(np.array(flat[1:]))\n",
    "    labels = np.array(labels)\n",
    "    imgs = np.array(imgs)\n",
    "    datums = len(labels)\n",
    "    labelInd = int(labelFrac * datums)\n",
    "    BCInd = int((labelFrac + BCFrac) * datums)\n",
    "    return imgs[:labelInd], labels[:labelInd], imgs[labelInd:BCInd], labels[labelInd:BCInd], imgs[BCInd:], labels[BCInd:]"
   ]
  },
  {
   "cell_type": "code",
   "execution_count": 3,
   "metadata": {},
   "outputs": [],
   "source": [
    "X_train, Y_train, X_bc, Y_bc, X_ul, Y_secretlabels = LoadData()"
   ]
  },
  {
   "cell_type": "code",
   "execution_count": 4,
   "metadata": {},
   "outputs": [],
   "source": [
    "def showImage(flat):\n",
    "    plt.imshow(flat.reshape((28, 28)))\n",
    "    plt.show()"
   ]
  },
  {
   "cell_type": "code",
   "execution_count": 6,
   "metadata": {},
   "outputs": [],
   "source": [
    "gbr = GradientBoostingRegressor(learning_rate=0.1, n_estimators=100, max_depth=3)\n",
    "gbr.fit(X_train, Y_train)\n",
    "\n",
    "y_bc_pred = gbr.predict(X_bc)\n",
    "\n",
    "biasCrxn = np.average(Y_bc - y_bc_pred)"
   ]
  },
  {
   "cell_type": "code",
   "execution_count": 7,
   "metadata": {},
   "outputs": [],
   "source": [
    "def LoadTests():\n",
    "    f = open(\"../data/mnist_test.csv\")\n",
    "    labels, imgs = [], []\n",
    "    for line in f:\n",
    "        flat = [int(x) for x in line.split(',')]\n",
    "        labels.append(flat[0])\n",
    "        imgs.append(np.array(flat[1:]))\n",
    "    labels = np.array(labels)\n",
    "    imgs = np.array(imgs)\n",
    "    return imgs, labels"
   ]
  },
  {
   "cell_type": "code",
   "execution_count": 8,
   "metadata": {},
   "outputs": [
    {
     "name": "stdout",
     "output_type": "stream",
     "text": [
      "0.3628\n"
     ]
    }
   ],
   "source": [
    "X_test, Y_test = LoadTests()\n",
    "trials = 0\n",
    "correct = 0\n",
    "for i in range(len(X_test)):\n",
    "    testImg = X_test[i]\n",
    "    testLabel = Y_test[i]\n",
    "    if int(round(gbr.predict(testImg.reshape((1, -1)))[0] + biasCrxn)) == testLabel:\n",
    "        correct += 1\n",
    "    trials += 1\n",
    "print(correct / trials)"
   ]
  },
  {
   "cell_type": "code",
   "execution_count": null,
   "metadata": {},
   "outputs": [],
   "source": []
  }
 ],
 "metadata": {
  "kernelspec": {
   "display_name": "Python 3",
   "language": "python",
   "name": "python3"
  },
  "language_info": {
   "codemirror_mode": {
    "name": "ipython",
    "version": 3
   },
   "file_extension": ".py",
   "mimetype": "text/x-python",
   "name": "python",
   "nbconvert_exporter": "python",
   "pygments_lexer": "ipython3",
   "version": "3.7.4"
  }
 },
 "nbformat": 4,
 "nbformat_minor": 2
}
