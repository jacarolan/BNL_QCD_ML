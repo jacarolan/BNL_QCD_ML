{
 "cells": [
  {
   "cell_type": "code",
   "execution_count": 1,
   "metadata": {},
   "outputs": [],
   "source": [
    "import numpy as np\n",
    "from sklearn.ensemble import GradientBoostingRegressor \n",
    "import matplotlib.pyplot as plt\n",
    "import os.path\n",
    "from os import path\n",
    "from sklearn.neural_network import MLPRegressor"
   ]
  },
  {
   "cell_type": "code",
   "execution_count": 2,
   "metadata": {},
   "outputs": [],
   "source": [
    "def LoadRawVariables():\n",
    "    c2pt = []\n",
    "    ts   = []\n",
    "    taus = []\n",
    "    xs   = []\n",
    "    ys   = []\n",
    "    zs   = []\n",
    "    c3pt_S = []\n",
    "    c3pt_V = []\n",
    "    c3pt_A = []\n",
    "    c2pt_OTHER = []\n",
    "    \n",
    "    \n",
    "    for tau in range(0, 49, 8):\n",
    "        for x in range(0, 25, 8):\n",
    "            for y in range(0, 25, 8):\n",
    "                for z in range(0, 25, 8):\n",
    "                    for sample in range(748, 1421, 16):\n",
    "                        fname = \"../Data/T\" + str(tau) + \"/x\" + str(x) + \"y\" + str(y) + \"z\" + str(z) + \"/nuc3pt.dat.\" + str(sample)\n",
    "                        if path.exists(fname):\n",
    "                            with open(fname) as fp:\n",
    "                                for i, line in enumerate(fp):\n",
    "                                    if i >= 7 and i <= 70:           # The start of Gauss -> Point 2pt correlation functions\n",
    "                                        c2pt_OTHER.append([float(x) for x in line.rstrip().split()[1:3]])\n",
    "                                    if i >= 5182 and i <= 5245:      # The start of Gauss -> Gauss 2pt correlation functions\n",
    "                                        c2pt.append([float(x) for x in line.rstrip().split()[1:3]])\n",
    "                                        ts.append(i - 5182)\n",
    "                                        taus.append(tau)\n",
    "                                        xs.append(x)\n",
    "                                        ys.append(y)\n",
    "                                        zs.append(z)\n",
    "                                    elif i >= 10154 and i <= 10217:\n",
    "                                        c3pt_S.append([float(x) for x in line.rstrip().split()[1:3]])\n",
    "                                    elif i >= 10229 and i <= 10292:\n",
    "                                        c3pt_V.append([float(x) for x in line.rstrip().split()[1:3]])\n",
    "                                    elif i >= 19979 and i <= 20042:\n",
    "                                        c3pt_A.append([float(x) for x in line.rstrip().split()[1:3]])\n",
    "                                    elif i > 20042:\n",
    "                                        break\n",
    "    \n",
    "    return ts, taus, xs, ys, zs, c2pt, c3pt_S, c3pt_V, c3pt_A, c2pt_OTHER\n",
    "\n",
    "ts, taus, xs, ys, zs, c2pt, c3pt_S, c3pt_V, c3pt_A, c2pt_OTHER = LoadRawVariables()\n",
    "\n",
    "c2pt_factor_raw = sum(np.array(c2pt)) / len(c2pt)\n",
    "N_factor = np.sqrt(c2pt_factor_raw[0] ** 2 + c2pt_factor_raw[1] ** 2)\n",
    "\n",
    "for i in range(len(c2pt)):\n",
    "    for j in range(2):\n",
    "        c2pt[i][j] /= N_factor\n",
    "        c3pt_S[i][j] /= N_factor\n",
    "        c3pt_V[i][j] /= N_factor\n",
    "        c3pt_A[i][j] /= N_factor\n",
    "        c2pt_OTHER[i][j] /= N_factor"
   ]
  },
  {
   "cell_type": "markdown",
   "metadata": {},
   "source": [
    "## Prediction of c3pt conglomerate based on c2pt snapshot"
   ]
  },
  {
   "cell_type": "code",
   "execution_count": 3,
   "metadata": {},
   "outputs": [],
   "source": [
    "# features = np.array([np.array([ts[i], taus[i], xs[i], ys[i], zs[i], c2pt[i][0], c2pt[i][1]]) for i in range(len(ts))])\n",
    "features_unshifted = np.array([[taus[i]] + [c2pt[i + j][0] for j in range(64)] + [c2pt[i + j][1] for j in range(64)] for i in range(0, len(ts), 64)])\n",
    "features = []\n",
    "for f in features_unshifted:\n",
    "    shift = int(f[0])\n",
    "    features.append(np.roll(f[1:], -shift))\n",
    "#### THIS IS WORSE ---> Try sparsely sampling features to combat large amount of data \n",
    "# for i in range(len(features)):\n",
    "#     sparseSubFeature = np.array([features[i][j] for j in range(0, len(features[i]), 8)])\n",
    "#     features[i] = sparseSubFeature\n",
    "\n",
    "features = np.array(features)\n",
    "\n",
    "labels_S = np.array([sum(c3pt_S[i:i+64][0]) / 64 for i in range(0, len(c3pt_S), 64)])\n",
    "labels_A = np.array([sum(c3pt_A[i:i+64][0]) / 64 for i in range(0, len(c3pt_A), 64)])\n",
    "labels_V = np.array([sum(c3pt_V[i:i+64][0]) / 64 for i in range(0, len(c3pt_V), 64)])\n"
   ]
  },
  {
   "cell_type": "markdown",
   "metadata": {},
   "source": [
    "## Prediction of scalar charge"
   ]
  },
  {
   "cell_type": "code",
   "execution_count": 4,
   "metadata": {},
   "outputs": [
    {
     "name": "stdout",
     "output_type": "stream",
     "text": [
      "-0.005665384514431303\n"
     ]
    }
   ],
   "source": [
    "labelFrac = 0.5\n",
    "BCFrac = 0.1\n",
    "\n",
    "labelEnd = int(len(labels_S) * labelFrac)\n",
    "BCEnd    = int(len(labels_S) * (BCFrac + labelFrac))\n",
    "\n",
    "X_train, Y_train, X_bc, Y_bc, X_test, Y_test = features[:labelEnd], labels_S[:labelEnd], features[labelEnd:BCEnd], labels_S[labelEnd:BCEnd], features[BCEnd:], labels_S[BCEnd:]\n",
    "\n",
    "# gbr = GradientBoostingRegressor(learning_rate=0.05, n_estimators=50, max_depth=3)\n",
    "gbr = GradientBoostingRegressor(learning_rate=0.1, n_estimators=100, max_depth=3)\n",
    "gbr.fit(X_train, Y_train)\n",
    "\n",
    "y_bc_pred = gbr.predict(X_bc)\n",
    "\n",
    "biasCrxn = np.average(Y_bc - y_bc_pred)\n",
    "print(biasCrxn)"
   ]
  },
  {
   "cell_type": "code",
   "execution_count": 5,
   "metadata": {
    "scrolled": true
   },
   "outputs": [
    {
     "name": "stdout",
     "output_type": "stream",
     "text": [
      "Prediction quality: 0.021667590847797135\n"
     ]
    },
    {
     "data": {
      "image/png": "[encoded data removed]",
      "text/plain": [
       "<Figure size 432x288 with 1 Axes>"
      ]
     },
     "metadata": {
      "needs_background": "light"
     },
     "output_type": "display_data"
    }
   ],
   "source": [
    "trials = 0\n",
    "errors = []\n",
    "raw_RMS = 0\n",
    "ML_samples = []\n",
    "DM_samples = []\n",
    "for i in range(len(X_test)):\n",
    "    testImg = X_test[i]\n",
    "    testLabel = Y_test[i]\n",
    "    pred = gbr.predict([testImg]) + biasCrxn\n",
    "    errors.append(pred - testLabel)\n",
    "    ML_samples.append(pred[0])\n",
    "    DM_samples.append(testLabel)\n",
    "    \n",
    "print(\"Prediction quality:\", np.std(errors) / np.std(X_train))\n",
    "\n",
    "plt.hist(DM_samples, bins=20)\n",
    "plt.hist(ML_samples, bins=20)\n",
    "plt.legend([\"Raw Data\", \"ML Prediction\"])\n",
    "plt.xlabel(\"Real part of c3pt\")\n",
    "plt.ylabel(\"Prediction count\")\n",
    "plt.title(\"C3pt Scalar Charge Distributions\")\n",
    "plt.show()"
   ]
  },
  {
   "cell_type": "markdown",
   "metadata": {},
   "source": [
    "## Prediction of Axial charge"
   ]
  },
  {
   "cell_type": "code",
   "execution_count": 11,
   "metadata": {},
   "outputs": [
    {
     "name": "stdout",
     "output_type": "stream",
     "text": [
      "0.000633287336130229\n"
     ]
    }
   ],
   "source": [
    "labelFrac = 0.5\n",
    "BCFrac = 0.1\n",
    "\n",
    "labelEnd = int(len(labels_A) * labelFrac)\n",
    "BCEnd    = int(len(labels_A) * (BCFrac + labelFrac))\n",
    "\n",
    "X_train, Y_train, X_bc, Y_bc, X_test, Y_test = features[:labelEnd], labels_A[:labelEnd], features[labelEnd:BCEnd], labels_A[labelEnd:BCEnd], features[BCEnd:], labels_A[BCEnd:]\n",
    "\n",
    "gbr = GradientBoostingRegressor(learning_rate=0.1, n_estimators=100, max_depth=3)\n",
    "gbr.fit(X_train, Y_train)\n",
    "\n",
    "y_bc_pred = gbr.predict(X_bc)\n",
    "\n",
    "biasCrxn = np.average(Y_bc - y_bc_pred)\n",
    "print(biasCrxn)"
   ]
  },
  {
   "cell_type": "code",
   "execution_count": 12,
   "metadata": {
    "scrolled": true
   },
   "outputs": [
    {
     "name": "stdout",
     "output_type": "stream",
     "text": [
      "Prediction quality: 0.0023996716189856075\n"
     ]
    },
    {
     "data": {
      "image/png": "[encoded data removed]",
      "text/plain": [
       "<Figure size 432x288 with 1 Axes>"
      ]
     },
     "metadata": {
      "needs_background": "light"
     },
     "output_type": "display_data"
    }
   ],
   "source": [
    "trials = 0\n",
    "errors = []\n",
    "raw_RMS = 0\n",
    "ML_samples = []\n",
    "DM_samples = []\n",
    "for i in range(len(X_test)):\n",
    "    testImg = X_test[i]\n",
    "    testLabel = Y_test[i]\n",
    "    pred = gbr.predict([testImg]) + biasCrxn\n",
    "    errors.append(pred - testLabel)\n",
    "    ML_samples.append(pred[0])\n",
    "    DM_samples.append(testLabel)\n",
    "    \n",
    "print(\"Prediction quality:\", np.std(errors) / np.std(X_train))\n",
    "\n",
    "plt.hist(DM_samples, bins=20)\n",
    "plt.hist(ML_samples, bins=20)\n",
    "plt.legend([\"Raw Data\", \"ML Prediction\"])\n",
    "plt.xlabel(\"Real part of c3pt\")\n",
    "plt.ylabel(\"Prediction count\")\n",
    "plt.title(\"C3pt Axial Charge Distributions\")\n",
    "plt.show()"
   ]
  },
  {
   "cell_type": "markdown",
   "metadata": {},
   "source": [
    "## Prediction of vector charge"
   ]
  },
  {
   "cell_type": "code",
   "execution_count": 13,
   "metadata": {},
   "outputs": [
    {
     "name": "stdout",
     "output_type": "stream",
     "text": [
      "0.0005113159718719584\n"
     ]
    }
   ],
   "source": [
    "labelFrac = 0.5\n",
    "BCFrac = 0.1\n",
    "\n",
    "labelEnd = int(len(labels_V) * labelFrac)\n",
    "BCEnd    = int(len(labels_V) * (BCFrac + labelFrac))\n",
    "\n",
    "X_train, Y_train, X_bc, Y_bc, X_test, Y_test = features[:labelEnd], labels_V[:labelEnd], features[labelEnd:BCEnd], labels_V[labelEnd:BCEnd], features[BCEnd:], labels_V[BCEnd:]\n",
    "\n",
    "gbr = GradientBoostingRegressor(learning_rate=0.1, n_estimators=100, max_depth=3)\n",
    "gbr.fit(X_train, Y_train)\n",
    "\n",
    "y_bc_pred = gbr.predict(X_bc)\n",
    "\n",
    "biasCrxn = np.average(Y_bc - y_bc_pred)\n",
    "print(biasCrxn)"
   ]
  },
  {
   "cell_type": "code",
   "execution_count": 14,
   "metadata": {
    "scrolled": true
   },
   "outputs": [
    {
     "name": "stdout",
     "output_type": "stream",
     "text": [
      "Prediction quality: 0.0012998158382924163\n"
     ]
    },
    {
     "data": {
      "image/png": "[encoded data removed]",
      "text/plain": [
       "<Figure size 432x288 with 1 Axes>"
      ]
     },
     "metadata": {
      "needs_background": "light"
     },
     "output_type": "display_data"
    }
   ],
   "source": [
    "trials = 0\n",
    "errors = []\n",
    "raw_RMS = 0\n",
    "ML_samples = []\n",
    "DM_samples = []\n",
    "for i in range(len(X_test)):\n",
    "    testImg = X_test[i]\n",
    "    testLabel = Y_test[i]\n",
    "    pred = gbr.predict([testImg]) + biasCrxn\n",
    "    errors.append(pred - testLabel)\n",
    "    ML_samples.append(pred[0])\n",
    "    DM_samples.append(testLabel)\n",
    "    \n",
    "print(\"Prediction quality:\", np.std(errors) / np.std(X_train))\n",
    "\n",
    "plt.hist(DM_samples, bins=20)\n",
    "plt.hist(ML_samples, bins=20)\n",
    "plt.legend([\"Raw Data\", \"ML Prediction\"])\n",
    "plt.xlabel(\"Real part of c3pt\")\n",
    "plt.ylabel(\"Prediction count\")\n",
    "plt.title(\"C3pt Vector Charge Distributions\")\n",
    "plt.show()"
   ]
  },
  {
   "cell_type": "markdown",
   "metadata": {},
   "source": [
    "# Characterization based on parameters"
   ]
  },
  {
   "cell_type": "code",
   "execution_count": 18,
   "metadata": {},
   "outputs": [
    {
     "data": {
      "image/png": "[encoded data removed]",
      "text/plain": [
       "<Figure size 432x288 with 1 Axes>"
      ]
     },
     "metadata": {
      "needs_background": "light"
     },
     "output_type": "display_data"
    }
   ],
   "source": [
    "quals = []\n",
    "for estims in range(5, 200, 10):\n",
    "    gbr = GradientBoostingRegressor(learning_rate=0.1, n_estimators=estims, max_depth=3)\n",
    "    gbr.fit(X_train, Y_train)\n",
    "\n",
    "    y_bc_pred = gbr.predict(X_bc)\n",
    "\n",
    "    biasCrxn = np.average(Y_bc - y_bc_pred)\n",
    "\n",
    "    trials = 0\n",
    "    errors = []\n",
    "    raw_RMS = 0\n",
    "    ML_samples = []\n",
    "    DM_samples = []\n",
    "    for i in range(len(X_test)):\n",
    "        testImg = X_test[i]\n",
    "        testLabel = Y_test[i]\n",
    "        pred = gbr.predict([testImg]) + biasCrxn\n",
    "        errors.append(pred - testLabel)\n",
    "        ML_samples.append(pred[0])\n",
    "        DM_samples.append(testLabel)\n",
    "\n",
    "    quals.append(np.std(errors) / np.std(X_train))\n",
    "\n",
    "plt.plot(list(range(5, 200, 10)), quals)\n",
    "plt.show()"
   ]
  },
  {
   "cell_type": "code",
   "execution_count": null,
   "metadata": {},
   "outputs": [],
   "source": [
    "quals = []\n",
    "for estims in range(5, 200, 10):\n",
    "    gbr = GradientBoostingRegressor(learning_rate=0.1, n_estimators=estims, max_depth=3)\n",
    "    gbr.fit(X_train, Y_train)\n",
    "\n",
    "    y_bc_pred = gbr.predict(X_bc)\n",
    "\n",
    "    biasCrxn = np.average(Y_bc - y_bc_pred)\n",
    "\n",
    "    trials = 0\n",
    "    errors = []\n",
    "    raw_RMS = 0\n",
    "    ML_samples = []\n",
    "    DM_samples = []\n",
    "    for i in range(len(X_test)):\n",
    "        testImg = X_test[i]\n",
    "        testLabel = Y_test[i]\n",
    "        pred = gbr.predict([testImg]) + biasCrxn\n",
    "        errors.append(pred - testLabel)\n",
    "        ML_samples.append(pred[0])\n",
    "        DM_samples.append(testLabel)\n",
    "\n",
    "    quals.append(np.std(errors) / np.std(X_train))\n",
    "\n",
    "plt.plot(list(range(5, 200, 10)), quals)\n",
    "plt.show()"
   ]
  },
  {
   "cell_type": "markdown",
   "metadata": {},
   "source": [
    "## Train based on a NN rather than a Decision Tree"
   ]
  },
  {
   "cell_type": "code",
   "execution_count": 10,
   "metadata": {},
   "outputs": [
    {
     "ename": "NameError",
     "evalue": "name 'c3pt' is not defined",
     "output_type": "error",
     "traceback": [
      "\u001b[1;31m---------------------------------------------------------------------------\u001b[0m",
      "\u001b[1;31mNameError\u001b[0m                                 Traceback (most recent call last)",
      "\u001b[1;32m<ipython-input-10-8f53d776de97>\u001b[0m in \u001b[0;36m<module>\u001b[1;34m\u001b[0m\n\u001b[0;32m     12\u001b[0m \u001b[0mfeatures\u001b[0m \u001b[1;33m=\u001b[0m \u001b[0mnp\u001b[0m\u001b[1;33m.\u001b[0m\u001b[0marray\u001b[0m\u001b[1;33m(\u001b[0m\u001b[0mfeatures\u001b[0m\u001b[1;33m)\u001b[0m\u001b[1;33m\u001b[0m\u001b[1;33m\u001b[0m\u001b[0m\n\u001b[0;32m     13\u001b[0m \u001b[1;33m\u001b[0m\u001b[0m\n\u001b[1;32m---> 14\u001b[1;33m \u001b[0mlabels\u001b[0m \u001b[1;33m=\u001b[0m \u001b[0mnp\u001b[0m\u001b[1;33m.\u001b[0m\u001b[0marray\u001b[0m\u001b[1;33m(\u001b[0m\u001b[1;33m[\u001b[0m\u001b[0msum\u001b[0m\u001b[1;33m(\u001b[0m\u001b[0mc3pt\u001b[0m\u001b[1;33m[\u001b[0m\u001b[0mi\u001b[0m\u001b[1;33m:\u001b[0m\u001b[0mi\u001b[0m\u001b[1;33m+\u001b[0m\u001b[1;36m64\u001b[0m\u001b[1;33m]\u001b[0m\u001b[1;33m[\u001b[0m\u001b[1;36m0\u001b[0m\u001b[1;33m]\u001b[0m\u001b[1;33m)\u001b[0m \u001b[1;33m/\u001b[0m \u001b[1;36m64\u001b[0m \u001b[1;32mfor\u001b[0m \u001b[0mi\u001b[0m \u001b[1;32min\u001b[0m \u001b[0mrange\u001b[0m\u001b[1;33m(\u001b[0m\u001b[1;36m0\u001b[0m\u001b[1;33m,\u001b[0m \u001b[0mlen\u001b[0m\u001b[1;33m(\u001b[0m\u001b[0mc3pt\u001b[0m\u001b[1;33m)\u001b[0m\u001b[1;33m,\u001b[0m \u001b[1;36m64\u001b[0m\u001b[1;33m)\u001b[0m\u001b[1;33m]\u001b[0m\u001b[1;33m)\u001b[0m\u001b[1;33m\u001b[0m\u001b[1;33m\u001b[0m\u001b[0m\n\u001b[0m\u001b[0;32m     15\u001b[0m \u001b[1;33m\u001b[0m\u001b[0m\n\u001b[0;32m     16\u001b[0m \u001b[0mprint\u001b[0m\u001b[1;33m(\u001b[0m\u001b[0mlen\u001b[0m\u001b[1;33m(\u001b[0m\u001b[0mfeatures\u001b[0m\u001b[1;33m)\u001b[0m\u001b[1;33m,\u001b[0m \u001b[0mlen\u001b[0m\u001b[1;33m(\u001b[0m\u001b[0mlabels\u001b[0m\u001b[1;33m)\u001b[0m\u001b[1;33m)\u001b[0m\u001b[1;33m\u001b[0m\u001b[1;33m\u001b[0m\u001b[0m\n",
      "\u001b[1;31mNameError\u001b[0m: name 'c3pt' is not defined"
     ]
    }
   ],
   "source": [
    "# features = np.array([np.array([ts[i], taus[i], xs[i], ys[i], zs[i], c2pt[i][0], c2pt[i][1]]) for i in range(len(ts))])\n",
    "features_unshifted = np.array([[taus[i]] + [c2pt[i + j][0] for j in range(64)] + [c2pt[i + j][1] for j in range(64)] for i in range(0, len(ts), 64)])\n",
    "features = []\n",
    "for f in features_unshifted:\n",
    "    shift = int(f[0])\n",
    "    features.append(np.roll(f[1:], -shift))\n",
    "#### THIS IS WORSE ---> Try sparsely sampling features to combat large amount of data \n",
    "# for i in range(len(features)):\n",
    "#     sparseSubFeature = np.array([features[i][j] for j in range(0, len(features[i]), 8)])\n",
    "#     features[i] = sparseSubFeature\n",
    "\n",
    "features = np.array(features)\n",
    "\n",
    "labels = np.array([sum(c3pt[i:i+64][0]) / 64 for i in range(0, len(c3pt), 64)])\n",
    "\n",
    "print(len(features), len(labels))\n",
    "print(len(features[0]))"
   ]
  },
  {
   "cell_type": "code",
   "execution_count": null,
   "metadata": {},
   "outputs": [],
   "source": [
    "labelFrac = 0.9\n",
    "\n",
    "labelEnd = int(len(labels) * labelFrac)\n",
    "\n",
    "X_train, Y_train, X_test, Y_test = features[:labelEnd], labels[:labelEnd], features[labelEnd:], labels[labelEnd:]\n",
    "\n",
    "mlp = MLPRegressor(max_iter=1000, learning_rate=\"adaptive\", learning_rate_init=0.05)\n",
    "mlp.fit(X_train, Y_train)"
   ]
  },
  {
   "cell_type": "code",
   "execution_count": null,
   "metadata": {},
   "outputs": [],
   "source": [
    "trials = 0\n",
    "errors = []\n",
    "raw_RMS = 0\n",
    "ML_samples = []\n",
    "DM_samples = []\n",
    "for i in range(len(X_test)):\n",
    "    testImg = X_test[i]\n",
    "    testLabel = Y_test[i]\n",
    "    pred = mlp.predict([testImg]) + biasCrxn\n",
    "    errors.append(pred - testLabel)\n",
    "    ML_samples.append(pred[0])\n",
    "    DM_samples.append(testLabel)\n",
    "    \n",
    "print(\"Prediction quality:\", np.std(errors) / np.std(X_train))\n",
    "\n",
    "plt.hist(DM_samples, bins=20)\n",
    "plt.hist(ML_samples, bins=20)\n",
    "plt.legend([\"Raw Data\", \"ML Prediction\"])\n",
    "plt.xlabel(\"Real part of c3pt\")\n",
    "plt.ylabel(\"Prediction count\")\n",
    "plt.show()"
   ]
  },
  {
   "cell_type": "markdown",
   "metadata": {},
   "source": [
    "## Prediction of c3pt based on c2pt directly"
   ]
  },
  {
   "cell_type": "code",
   "execution_count": null,
   "metadata": {},
   "outputs": [],
   "source": []
  }
 ],
 "metadata": {
  "kernelspec": {
   "display_name": "Python 3",
   "language": "python",
   "name": "python3"
  },
  "language_info": {
   "codemirror_mode": {
    "name": "ipython",
    "version": 3
   },
   "file_extension": ".py",
   "mimetype": "text/x-python",
   "name": "python",
   "nbconvert_exporter": "python",
   "pygments_lexer": "ipython3",
   "version": "3.7.4"
  }
 },
 "nbformat": 4,
 "nbformat_minor": 2
}
