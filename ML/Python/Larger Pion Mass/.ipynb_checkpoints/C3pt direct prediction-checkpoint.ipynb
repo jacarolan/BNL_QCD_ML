{
 "cells": [
  {
   "cell_type": "code",
   "execution_count": 1,
   "metadata": {},
   "outputs": [],
   "source": [
    "import numpy as np\n",
    "from sklearn.ensemble import GradientBoostingRegressor \n",
    "import matplotlib.pyplot as plt\n",
    "import os.path\n",
    "from os import path\n",
    "from sklearn.neural_network import MLPRegressor"
   ]
  },
  {
   "cell_type": "code",
   "execution_count": 2,
   "metadata": {},
   "outputs": [],
   "source": [
    "def LoadRawVariables():\n",
    "    c2pt = []\n",
    "    ts   = []\n",
    "    taus = []\n",
    "    xs   = []\n",
    "    ys   = []\n",
    "    zs   = []\n",
    "    c3pt_S = []\n",
    "    c3pt_V = []\n",
    "    c3pt_A = []\n",
    "    \n",
    "    \n",
    "    for tau in range(0, 49, 16):\n",
    "        chunk_start = 0\n",
    "        fname_c2pt_real = \"../../Data/0.0042/GAUSS_n_2pt_mom_s\" + str(tau) + \"_up_real.cfg\"\n",
    "        fname_c2pt_imag = \"../../Data/0.0042/GAUSS_n_2pt_mom_s\" + str(tau) + \"_up_imag.cfg\"\n",
    "        index = len(c2pt)\n",
    "        if path.exists(fname_c2pt_real):\n",
    "            with open(fname_c2pt_real) as fp:\n",
    "                for i, line in enumerate(fp):\n",
    "                    if i > chunk_start + 2 and (i % 166) != ((chunk_start + 2) % 166) and i < chunk_start + 2 + 166 * 64:\n",
    "                        c2pt.append([float(line.rstrip())])\n",
    "                        ts.append((i - 2) // 166)\n",
    "                        taus.append(tau)\n",
    "        if path.exists(fname_c2pt_imag):\n",
    "            with open(fname_c2pt_imag) as fp:\n",
    "                for i, line in enumerate(fp):\n",
    "                    if i > chunk_start + 2 and (i % 166) != ((chunk_start + 2) % 166) and i < chunk_start + 2 + 166 * 64:\n",
    "                        c2pt[index].append(float(line.rstrip()))\n",
    "                        index += 1\n",
    "        \n",
    "        fname_c3pt_S_real = \"../../Data/0.0042/PPAR_G0_n_3pt_mom_s\" + str(tau) + \"_up_real.cfg\"\n",
    "        fname_c3pt_S_imag = \"../../Data/0.0042/PPAR_G0_n_3pt_mom_s\" + str(tau) + \"_up_imag.cfg\"\n",
    "        index = len(c3pt_S)\n",
    "        if path.exists(fname_c3pt_S_real):\n",
    "            with open(fname_c3pt_S_real) as fp:\n",
    "                for i, line in enumerate(fp):\n",
    "                    if i > chunk_start + 4 and (i % 166) != ((chunk_start + 4) % 166) and i < chunk_start + 4 + 166 * 64:\n",
    "                        c3pt_S.append([float(line.rstrip())])\n",
    "        if path.exists(fname_c3pt_S_imag):\n",
    "            with open(fname_c3pt_S_imag) as fp:\n",
    "                for i, line in enumerate(fp):\n",
    "                    if i > chunk_start + 4 and (i % 166) != ((chunk_start + 4) % 166) and i < chunk_start + 4 + 166 * 64:\n",
    "                        c3pt_S[index].append(float(line.rstrip()))\n",
    "                        index += 1\n",
    "        \n",
    "        chunk_start = 170048\n",
    "        fname_c3pt_V_real = \"../../Data/0.0042/PPAR_G4_n_3pt_mom_s\" + str(tau) + \"_up_real.cfg\"\n",
    "        fname_c3pt_V_imag = \"../../Data/0.0042/PPAR_G4_n_3pt_mom_s\" + str(tau) + \"_up_imag.cfg\"\n",
    "        index = len(c3pt_V)\n",
    "        if path.exists(fname_c3pt_V_real):\n",
    "            with open(fname_c3pt_V_real) as fp:\n",
    "                for i, line in enumerate(fp):\n",
    "                    if i > chunk_start + 4 and (i % 166) != ((chunk_start + 4) % 166) and i < chunk_start + 4 + 166 * 64:\n",
    "                        c3pt_V.append([float(line.rstrip())])\n",
    "        if path.exists(fname_c3pt_V_imag):\n",
    "            with open(fname_c3pt_V_imag) as fp:\n",
    "                for i, line in enumerate(fp):\n",
    "                    if i > chunk_start + 4 and (i % 166) != ((chunk_start + 4) % 166) and i < chunk_start + 4 + 166 * 64:\n",
    "                        c3pt_V[index].append(float(line.rstrip()))\n",
    "                        index += 1\n",
    "        \n",
    "        chunk_start = 170048\n",
    "        fname_c3pt_A_real = \"../../Data/0.0042/PPAR_5Z_G5G3_n_3pt_mom_s\" + str(tau) + \"_up_real.cfg\"\n",
    "        fname_c3pt_A_imag = \"../../Data/0.0042/PPAR_5Z_G5G3_n_3pt_mom_s\" + str(tau) + \"_up_imag.cfg\"\n",
    "        index = len(c3pt_A)\n",
    "        if path.exists(fname_c3pt_A_real):\n",
    "            with open(fname_c3pt_A_real) as fp:\n",
    "                for i, line in enumerate(fp):\n",
    "                    if i > chunk_start + 4 and (i % 166) != ((chunk_start + 4) % 166) and i < chunk_start + 4 + 166 * 64:\n",
    "                        c3pt_A.append([float(line.rstrip())])\n",
    "        if path.exists(fname_c3pt_A_imag):\n",
    "            with open(fname_c3pt_A_imag) as fp:\n",
    "                for i, line in enumerate(fp):\n",
    "                    if i > chunk_start + 4 and (i % 166) != ((chunk_start + 4) % 166) and i < chunk_start + 4 + 166 * 64:\n",
    "                        c3pt_A[index].append(float(line.rstrip()))\n",
    "                        index += 1\n",
    "                        \n",
    "\n",
    "    return ts, taus, c2pt, c3pt_S, c3pt_V, c3pt_A\n",
    "\n",
    "ts, taus, c2pt, c3pt_S, c3pt_V, c3pt_A = LoadRawVariables()\n",
    "\n",
    "c2pt_factor_raw = sum(np.array(c2pt)) / len(c2pt)\n",
    "N_factor = np.sqrt(c2pt_factor_raw[0] ** 2 + c2pt_factor_raw[1] ** 2)\n",
    "\n",
    "for i in range(len(c2pt)):\n",
    "    for j in range(2):\n",
    "        c2pt[i][j] /= N_factor\n",
    "        c3pt_S[i][j] /= N_factor\n",
    "        c3pt_V[i][j] /= N_factor\n",
    "        c3pt_A[i][j] /= N_factor"
   ]
  },
  {
   "cell_type": "markdown",
   "metadata": {},
   "source": [
    "## Prediction of c3pt conglomerate based on c2pt snapshot"
   ]
  },
  {
   "cell_type": "code",
   "execution_count": 8,
   "metadata": {},
   "outputs": [
    {
     "name": "stdout",
     "output_type": "stream",
     "text": [
      "660 660\n",
      "128\n"
     ]
    }
   ],
   "source": [
    "# features = np.array([np.array([ts[i], taus[i], xs[i], ys[i], zs[i], c2pt[i][0], c2pt[i][1]]) for i in range(len(ts))])\n",
    "features_unshifted = np.array([[taus[i]] + [c2pt[i + j][0] for j in range(64)] + [c2pt[i + j][1] for j in range(64)] for i in range(0, len(ts), 64)])\n",
    "features = []\n",
    "for f in features_unshifted:\n",
    "    shift = int(f[0])\n",
    "    features.append(np.roll(f[1:], -shift))\n",
    "\n",
    "#### THIS IS WORSE ---> Try sparsely sampling features to combat large amount of data \n",
    "# for i in range(len(features)):\n",
    "#     sparseSubFeature = np.array([features[i][j] for j in range(0, len(features[i]), 8)])\n",
    "#     features[i] = sparseSubFeature\n",
    "\n",
    "features = np.array(features)\n",
    "\n",
    "labels_S = np.array([c3pt_S[i][0] for i in range(0, len(c3pt_S), 64)])\n",
    "labels_A = np.array([c3pt_A[i][0] for i in range(0, len(c3pt_A), 64)])\n",
    "labels_V = np.array([c3pt_V[i][0] for i in range(0, len(c3pt_V), 64)])\n",
    "\n",
    "print(len(features), len(labels_S))\n",
    "print(len(features[0]))"
   ]
  },
  {
   "cell_type": "markdown",
   "metadata": {},
   "source": [
    "## Prediction of scalar charge"
   ]
  },
  {
   "cell_type": "code",
   "execution_count": 12,
   "metadata": {},
   "outputs": [
    {
     "name": "stdout",
     "output_type": "stream",
     "text": [
      "-0.008626552456727466\n"
     ]
    }
   ],
   "source": [
    "labelFrac = 0.8\n",
    "BCFrac = 0.1\n",
    "\n",
    "labelEnd = int(len(labels_S) * labelFrac)\n",
    "BCEnd    = int(len(labels_S) * (BCFrac + labelFrac))\n",
    "\n",
    "X_train, Y_train, X_bc, Y_bc, X_test, Y_test = features[:labelEnd], labels_S[:labelEnd], features[labelEnd:BCEnd], labels_S[labelEnd:BCEnd], features[BCEnd:], labels_S[BCEnd:]\n",
    "\n",
    "gbr = GradientBoostingRegressor(learning_rate=0.05, n_estimators=50, max_depth=3)\n",
    "gbr.fit(X_train, Y_train)\n",
    "\n",
    "y_bc_pred = gbr.predict(X_bc)\n",
    "\n",
    "biasCrxn = np.average(Y_bc - y_bc_pred)\n",
    "print(biasCrxn)"
   ]
  },
  {
   "cell_type": "code",
   "execution_count": 13,
   "metadata": {
    "scrolled": true
   },
   "outputs": [
    {
     "name": "stdout",
     "output_type": "stream",
     "text": [
      "Prediction quality: 14.654187882684461\n"
     ]
    },
    {
     "data": {
      "image/png": "[encoded data removed]",
      "text/plain": [
       "<Figure size 432x288 with 1 Axes>"
      ]
     },
     "metadata": {
      "needs_background": "light"
     },
     "output_type": "display_data"
    }
   ],
   "source": [
    "trials = 0\n",
    "errors = []\n",
    "raw_RMS = 0\n",
    "ML_samples = []\n",
    "DM_samples = []\n",
    "for i in range(len(X_test)):\n",
    "    testImg = X_test[i]\n",
    "    testLabel = Y_test[i]\n",
    "    pred = gbr.predict([testImg]) + biasCrxn\n",
    "    errors.append(pred - testLabel)\n",
    "    ML_samples.append(pred[0])\n",
    "    DM_samples.append(testLabel)\n",
    "    \n",
    "print(\"Prediction quality:\", np.std(errors) / np.std(X_train))\n",
    "\n",
    "plt.hist(DM_samples, bins=20)\n",
    "plt.hist(ML_samples, bins=20)\n",
    "plt.legend([\"Raw Data\", \"ML Prediction\"])\n",
    "plt.xlabel(\"Real part of c3pt\")\n",
    "plt.ylabel(\"Prediction count\")\n",
    "plt.show()"
   ]
  },
  {
   "cell_type": "markdown",
   "metadata": {},
   "source": [
    "## Prediction of Axial charge"
   ]
  },
  {
   "cell_type": "code",
   "execution_count": 14,
   "metadata": {},
   "outputs": [
    {
     "name": "stdout",
     "output_type": "stream",
     "text": [
      "-0.022410362206895223\n"
     ]
    }
   ],
   "source": [
    "labelFrac = 0.8\n",
    "BCFrac = 0.1\n",
    "\n",
    "labelEnd = int(len(labels_A) * labelFrac)\n",
    "BCEnd    = int(len(labels_A) * (BCFrac + labelFrac))\n",
    "\n",
    "X_train, Y_train, X_bc, Y_bc, X_test, Y_test = features[:labelEnd], labels_A[:labelEnd], features[labelEnd:BCEnd], labels_A[labelEnd:BCEnd], features[BCEnd:], labels_A[BCEnd:]\n",
    "\n",
    "gbr = GradientBoostingRegressor(learning_rate=0.05, n_estimators=50, max_depth=3)\n",
    "gbr.fit(X_train, Y_train)\n",
    "\n",
    "y_bc_pred = gbr.predict(X_bc)\n",
    "\n",
    "biasCrxn = np.average(Y_bc - y_bc_pred)\n",
    "print(biasCrxn)"
   ]
  },
  {
   "cell_type": "code",
   "execution_count": 15,
   "metadata": {
    "scrolled": true
   },
   "outputs": [
    {
     "name": "stdout",
     "output_type": "stream",
     "text": [
      "Prediction quality: 2.537835644730899\n"
     ]
    },
    {
     "data": {
      "image/png": "[encoded data removed]",
      "text/plain": [
       "<Figure size 432x288 with 1 Axes>"
      ]
     },
     "metadata": {
      "needs_background": "light"
     },
     "output_type": "display_data"
    }
   ],
   "source": [
    "trials = 0\n",
    "errors = []\n",
    "raw_RMS = 0\n",
    "ML_samples = []\n",
    "DM_samples = []\n",
    "for i in range(len(X_test)):\n",
    "    testImg = X_test[i]\n",
    "    testLabel = Y_test[i]\n",
    "    pred = gbr.predict([testImg]) + biasCrxn\n",
    "    errors.append(pred - testLabel)\n",
    "    ML_samples.append(pred[0])\n",
    "    DM_samples.append(testLabel)\n",
    "    \n",
    "print(\"Prediction quality:\", np.std(errors) / np.std(X_train))\n",
    "\n",
    "plt.hist(DM_samples, bins=20)\n",
    "plt.hist(ML_samples, bins=20)\n",
    "plt.legend([\"Raw Data\", \"ML Prediction\"])\n",
    "plt.xlabel(\"Real part of c3pt\")\n",
    "plt.ylabel(\"Prediction count\")\n",
    "plt.show()"
   ]
  },
  {
   "cell_type": "markdown",
   "metadata": {},
   "source": [
    "## Prediction of Vector charge"
   ]
  },
  {
   "cell_type": "code",
   "execution_count": 12,
   "metadata": {},
   "outputs": [
    {
     "name": "stdout",
     "output_type": "stream",
     "text": [
      "-0.008626552456727466\n"
     ]
    }
   ],
   "source": [
    "labelFrac = 0.8\n",
    "BCFrac = 0.1\n",
    "\n",
    "labelEnd = int(len(labels_V) * labelFrac)\n",
    "BCEnd    = int(len(labels_V) * (BCFrac + labelFrac))\n",
    "\n",
    "X_train, Y_train, X_bc, Y_bc, X_test, Y_test = features[:labelEnd], labels_V[:labelEnd], features[labelEnd:BCEnd], labels_V[labelEnd:BCEnd], features[BCEnd:], labels_V[BCEnd:]\n",
    "\n",
    "gbr = GradientBoostingRegressor(learning_rate=0.05, n_estimators=50, max_depth=3)\n",
    "gbr.fit(X_train, Y_train)\n",
    "\n",
    "y_bc_pred = gbr.predict(X_bc)\n",
    "\n",
    "biasCrxn = np.average(Y_bc - y_bc_pred)\n",
    "print(biasCrxn)"
   ]
  },
  {
   "cell_type": "code",
   "execution_count": 13,
   "metadata": {
    "scrolled": true
   },
   "outputs": [
    {
     "name": "stdout",
     "output_type": "stream",
     "text": [
      "Prediction quality: 14.654187882684461\n"
     ]
    },
    {
     "data": {
      "image/png": "[encoded data removed]",
      "text/plain": [
       "<Figure size 432x288 with 1 Axes>"
      ]
     },
     "metadata": {
      "needs_background": "light"
     },
     "output_type": "display_data"
    }
   ],
   "source": [
    "trials = 0\n",
    "errors = []\n",
    "raw_RMS = 0\n",
    "ML_samples = []\n",
    "DM_samples = []\n",
    "for i in range(len(X_test)):\n",
    "    testImg = X_test[i]\n",
    "    testLabel = Y_test[i]\n",
    "    pred = gbr.predict([testImg]) + biasCrxn\n",
    "    errors.append(pred - testLabel)\n",
    "    ML_samples.append(pred[0])\n",
    "    DM_samples.append(testLabel)\n",
    "    \n",
    "print(\"Prediction quality:\", np.std(errors) / np.std(X_train))\n",
    "\n",
    "plt.hist(DM_samples, bins=20)\n",
    "plt.hist(ML_samples, bins=20)\n",
    "plt.legend([\"Raw Data\", \"ML Prediction\"])\n",
    "plt.xlabel(\"Real part of c3pt\")\n",
    "plt.ylabel(\"Prediction count\")\n",
    "plt.show()"
   ]
  },
  {
   "cell_type": "code",
   "execution_count": null,
   "metadata": {},
   "outputs": [],
   "source": []
  }
 ],
 "metadata": {
  "kernelspec": {
   "display_name": "Python 3",
   "language": "python",
   "name": "python3"
  },
  "language_info": {
   "codemirror_mode": {
    "name": "ipython",
    "version": 3
   },
   "file_extension": ".py",
   "mimetype": "text/x-python",
   "name": "python",
   "nbconvert_exporter": "python",
   "pygments_lexer": "ipython3",
   "version": "3.7.4"
  }
 },
 "nbformat": 4,
 "nbformat_minor": 2
}
