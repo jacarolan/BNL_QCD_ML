{
 "cells": [
  {
   "cell_type": "code",
   "execution_count": 1,
   "metadata": {},
   "outputs": [],
   "source": [
    "import numpy as np\n",
    "from sklearn.ensemble import GradientBoostingRegressor \n",
    "import matplotlib.pyplot as plt\n",
    "import os.path\n",
    "from os import path\n",
    "from sklearn.neural_network import MLPRegressor\n",
    "import seaborn as sns\n",
    "from scipy.stats import pearsonr"
   ]
  },
  {
   "cell_type": "code",
   "execution_count": 2,
   "metadata": {},
   "outputs": [],
   "source": [
    "def LoadRawVariables():\n",
    "    c2pt = []\n",
    "    ts   = []\n",
    "    taus = []\n",
    "    xs   = []\n",
    "    ys   = []\n",
    "    zs   = []\n",
    "    c3pt_S = []\n",
    "    c3pt_V = []\n",
    "    c3pt_A = []\n",
    "    \n",
    "    \n",
    "    for tau in range(0, 49, 16):\n",
    "        chunk_start = 0\n",
    "        fname_c2pt_real = \"../../Data/0.0042/GAUSS_n_2pt_mom_s\" + str(tau) + \"_up_real.cfg\"\n",
    "        fname_c2pt_imag = \"../../Data/0.0042/GAUSS_n_2pt_mom_s\" + str(tau) + \"_up_imag.cfg\"\n",
    "        index = len(c2pt)\n",
    "        if path.exists(fname_c2pt_real):\n",
    "            with open(fname_c2pt_real) as fp:\n",
    "                for i, line in enumerate(fp):\n",
    "                    if i > chunk_start + 2 and (i % 166) != ((chunk_start + 2) % 166) and i < chunk_start + 2 + 166 * 64:\n",
    "                        c2pt.append([float(line.rstrip())])\n",
    "                        ts.append((i - 2) // 166)\n",
    "                        taus.append(tau)\n",
    "        if path.exists(fname_c2pt_imag):\n",
    "            with open(fname_c2pt_imag) as fp:\n",
    "                for i, line in enumerate(fp):\n",
    "                    if i > chunk_start + 2 and (i % 166) != ((chunk_start + 2) % 166) and i < chunk_start + 2 + 166 * 64:\n",
    "                        c2pt[index].append(float(line.rstrip()))\n",
    "                        index += 1\n",
    "        \n",
    "        fname_c3pt_S_real = \"../../Data/0.0042/PPAR_G0_n_3pt_mom_s\" + str(tau) + \"_up_real.cfg\"\n",
    "        fname_c3pt_S_imag = \"../../Data/0.0042/PPAR_G0_n_3pt_mom_s\" + str(tau) + \"_up_imag.cfg\"\n",
    "        index = len(c3pt_S)\n",
    "        if path.exists(fname_c3pt_S_real):\n",
    "            with open(fname_c3pt_S_real) as fp:\n",
    "                for i, line in enumerate(fp):\n",
    "                    if i > chunk_start + 4 and (i % 166) != ((chunk_start + 4) % 166) and i < chunk_start + 4 + 166 * 64:\n",
    "                        c3pt_S.append([float(line.rstrip())])\n",
    "        if path.exists(fname_c3pt_S_imag):\n",
    "            with open(fname_c3pt_S_imag) as fp:\n",
    "                for i, line in enumerate(fp):\n",
    "                    if i > chunk_start + 4 and (i % 166) != ((chunk_start + 4) % 166) and i < chunk_start + 4 + 166 * 64:\n",
    "                        c3pt_S[index].append(float(line.rstrip()))\n",
    "                        index += 1\n",
    "        \n",
    "        chunk_start = 170048\n",
    "        fname_c3pt_V_real = \"../../Data/0.0042/PPAR_G4_n_3pt_mom_s\" + str(tau) + \"_up_real.cfg\"\n",
    "        fname_c3pt_V_imag = \"../../Data/0.0042/PPAR_G4_n_3pt_mom_s\" + str(tau) + \"_up_imag.cfg\"\n",
    "        index = len(c3pt_V)\n",
    "        if path.exists(fname_c3pt_V_real):\n",
    "            with open(fname_c3pt_V_real) as fp:\n",
    "                for i, line in enumerate(fp):\n",
    "                    if i > chunk_start + 4 and (i % 166) != ((chunk_start + 4) % 166) and i < chunk_start + 4 + 166 * 64:\n",
    "                        c3pt_V.append([float(line.rstrip())])\n",
    "        if path.exists(fname_c3pt_V_imag):\n",
    "            with open(fname_c3pt_V_imag) as fp:\n",
    "                for i, line in enumerate(fp):\n",
    "                    if i > chunk_start + 4 and (i % 166) != ((chunk_start + 4) % 166) and i < chunk_start + 4 + 166 * 64:\n",
    "                        c3pt_V[index].append(float(line.rstrip()))\n",
    "                        index += 1\n",
    "        \n",
    "        chunk_start = 170048\n",
    "        fname_c3pt_A_real = \"../../Data/0.0042/PPAR_5Z_G5G3_n_3pt_mom_s\" + str(tau) + \"_up_real.cfg\"\n",
    "        fname_c3pt_A_imag = \"../../Data/0.0042/PPAR_5Z_G5G3_n_3pt_mom_s\" + str(tau) + \"_up_imag.cfg\"\n",
    "        index = len(c3pt_A)\n",
    "        if path.exists(fname_c3pt_A_real):\n",
    "            with open(fname_c3pt_A_real) as fp:\n",
    "                for i, line in enumerate(fp):\n",
    "                    if i > chunk_start + 4 and (i % 166) != ((chunk_start + 4) % 166) and i < chunk_start + 4 + 166 * 64:\n",
    "                        c3pt_A.append([float(line.rstrip())])\n",
    "        if path.exists(fname_c3pt_A_imag):\n",
    "            with open(fname_c3pt_A_imag) as fp:\n",
    "                for i, line in enumerate(fp):\n",
    "                    if i > chunk_start + 4 and (i % 166) != ((chunk_start + 4) % 166) and i < chunk_start + 4 + 166 * 64:\n",
    "                        c3pt_A[index].append(float(line.rstrip()))\n",
    "                        index += 1\n",
    "                        \n",
    "\n",
    "    return ts, taus, c2pt, c3pt_S, c3pt_V, c3pt_A\n",
    "\n",
    "ts, taus, c2pt, c3pt_S, c3pt_V, c3pt_A = LoadRawVariables()\n",
    "\n",
    "c2pt_factor_raw = sum(np.array(c2pt)) / len(c2pt)\n",
    "N_factor = np.sqrt(c2pt_factor_raw[0] ** 2 + c2pt_factor_raw[1] ** 2)\n",
    "\n",
    "for i in range(len(c2pt)):\n",
    "    for j in range(2):\n",
    "        c2pt[i][j] /= N_factor\n",
    "        c3pt_S[i][j] /= N_factor\n",
    "        c3pt_V[i][j] /= N_factor\n",
    "        c3pt_A[i][j] /= N_factor"
   ]
  },
  {
   "cell_type": "code",
   "execution_count": 3,
   "metadata": {},
   "outputs": [],
   "source": [
    "features = np.array([np.array([ts[i], taus[i], c2pt[i][0], c2pt[i][1]]) for i in range(len(ts))])\n",
    "labels_S = np.array([np.array([c3pt_S[i][0], c3pt_S[i][1]]) for i in range(len(c3pt_S))])\n",
    "labels_A = np.array([np.array([c3pt_A[i][0], c3pt_A[i][1]]) for i in range(len(c3pt_A))])\n",
    "labels_V = np.array([np.array([c3pt_V[i][0], c3pt_V[i][1]]) for i in range(len(c3pt_V))])"
   ]
  },
  {
   "cell_type": "code",
   "execution_count": 5,
   "metadata": {},
   "outputs": [],
   "source": [
    "corrs_S = []\n",
    "corrs_A = []\n",
    "corrs_V = []\n",
    "\n",
    "c2pt_chunk = []\n",
    "c3pt_S_chunk = []\n",
    "c3pt_A_chunk = []\n",
    "c3pt_V_chunk = []\n",
    "c2pt_OTHER_chunk = []\n",
    "for i in range(len(features)):\n",
    "    t = int(features[i, 0])\n",
    "    tau = int(features[i, 1])\n",
    "    if (t - tau + 64) % 64 > 8:\n",
    "        continue\n",
    "    else:\n",
    "        c2pt_chunk.append(features[i, 2] + 1j * features[i, 3])\n",
    "        c3pt_S_chunk.append(labels_S[i, 0] + 1j * labels_S[i, 1])\n",
    "        c3pt_A_chunk.append(labels_A[i, 0] + 1j * labels_A[i, 1])\n",
    "        c3pt_V_chunk.append(labels_V[i, 0] + 1j * labels_V[i, 1])\n"
   ]
  },
  {
   "cell_type": "code",
   "execution_count": 7,
   "metadata": {},
   "outputs": [
    {
     "name": "stderr",
     "output_type": "stream",
     "text": [
      "C:\\Users\\jjjkr\\Anaconda3\\lib\\site-packages\\scipy\\stats\\stats.py:3555: ComplexWarning: Casting complex values to real discards the imaginary part\n",
      "  prob = 2*special.btdtr(ab, ab, 0.5*(1 - abs(np.float64(r))))\n"
     ]
    }
   ],
   "source": [
    "corr_S, _ = pearsonr(c2pt_chunk, c3pt_S_chunk)\n",
    "corr_A, _ = pearsonr(c2pt_chunk, c3pt_A_chunk)\n",
    "corr_V, _ = pearsonr(c2pt_chunk, c3pt_V_chunk)\n",
    "\n",
    "\n",
    "corrs_S.append(np.sqrt(np.abs(corr_S)))\n",
    "corrs_A.append(np.sqrt(np.abs(corr_A)))\n",
    "corrs_V.append(np.sqrt(np.abs(corr_V)))"
   ]
  },
  {
   "cell_type": "code",
   "execution_count": 8,
   "metadata": {},
   "outputs": [
    {
     "data": {
      "image/png": "[encoded data removed]",
      "text/plain": [
       "<Figure size 432x288 with 2 Axes>"
      ]
     },
     "metadata": {
      "needs_background": "light"
     },
     "output_type": "display_data"
    }
   ],
   "source": [
    "data = np.array([corrs_S, corrs_A, corrs_V])\n",
    "ax = sns.heatmap(data, linewidth=0.5, yticklabels=False, xticklabels=False)\n",
    "plt.ylabel(\"Vector               Axial             Scalar\")\n",
    "plt.title(\"Correlation between c3pt and c2pt\")\n",
    "plt.xlabel(\"Time step\")\n",
    "plt.show()"
   ]
  }
 ],
 "metadata": {
  "kernelspec": {
   "display_name": "Python 3",
   "language": "python",
   "name": "python3"
  },
  "language_info": {
   "codemirror_mode": {
    "name": "ipython",
    "version": 3
   },
   "file_extension": ".py",
   "mimetype": "text/x-python",
   "name": "python",
   "nbconvert_exporter": "python",
   "pygments_lexer": "ipython3",
   "version": "3.7.4"
  }
 },
 "nbformat": 4,
 "nbformat_minor": 4
}
