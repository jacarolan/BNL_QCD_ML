{
 "cells": [
  {
   "cell_type": "code",
   "execution_count": 16,
   "metadata": {},
   "outputs": [],
   "source": [
    "import numpy as np\n",
    "import numpy.random\n",
    "import scipy.sparse.linalg as spla\n",
    "import numpy.linalg as la\n",
    "import time"
   ]
  },
  {
   "cell_type": "code",
   "execution_count": 18,
   "metadata": {},
   "outputs": [
    {
     "name": "stdout",
     "output_type": "stream",
     "text": [
      "Elapsed time: 1.2644 seconds\n",
      "Elapsed time: 1.1956 seconds\n",
      "Elapsed time: 1.2351 seconds\n",
      "Elapsed time: 1.1942 seconds\n",
      "Elapsed time: 1.1853 seconds\n"
     ]
    }
   ],
   "source": [
    "n = 5000\n",
    "iterations = 5\n",
    "\n",
    "print(\"Iteration time for solving a linear system using scipy\")\n",
    "\n",
    "for i in range(iterations):\n",
    "    tstart = time.time()\n",
    "    A = np.random.rand(n, n)\n",
    "    A = 0.5 * (A + A.T) + n * np.eye(n)\n",
    "    b = np.random.rand(n)\n",
    "\n",
    "    x, y = spla.cg(A, b)\n",
    "    tend = time.time()\n",
    "    \n",
    "    print(\"Elapsed time:\", round(tend - tstart, 3), \"seconds\")\n",
    "    \n",
    "    "
   ]
  }
 ],
 "metadata": {
  "kernelspec": {
   "display_name": "Python 3",
   "language": "python",
   "name": "python3"
  },
  "language_info": {
   "codemirror_mode": {
    "name": "ipython",
    "version": 3
   },
   "file_extension": ".py",
   "mimetype": "text/x-python",
   "name": "python",
   "nbconvert_exporter": "python",
   "pygments_lexer": "ipython3",
   "version": "3.7.3"
  }
 },
 "nbformat": 4,
 "nbformat_minor": 2
}
